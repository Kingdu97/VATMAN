{
 "cells": [
  {
   "attachments": {},
   "cell_type": "markdown",
   "metadata": {},
   "source": [
    "# Train dataset sampling (10%)\n",
    "- 기존 12798개\n",
    "- sampled 1279개 "
   ]
  },
  {
   "cell_type": "code",
   "execution_count": 2,
   "metadata": {},
   "outputs": [],
   "source": [
    "with open('/root/VG-GPLMs/src/dataset300/vid_id_300/train_id.txt', 'r') as f:\n",
    "    id_list=[line.strip() for line in f]\n",
    "    "
   ]
  },
  {
   "cell_type": "code",
   "execution_count": 3,
   "metadata": {},
   "outputs": [],
   "source": [
    "import random"
   ]
  },
  {
   "cell_type": "code",
   "execution_count": 5,
   "metadata": {},
   "outputs": [
    {
     "name": "stdout",
     "output_type": "stream",
     "text": [
      "10%로 샘플링된 ID 개수 : 1279\n",
      "10%로 샘플링된 ID 저장경로 : /root/VG-GPLMs/src/dataset300/vid_id_300/sampled_train_id.txt\n"
     ]
    }
   ],
   "source": [
    "sample_size = int(len(id_list)*0.1)\n",
    "sampled_ids = random.sample(id_list, sample_size)\n",
    "\n",
    "output_file = '/root/VG-GPLMs/src/dataset300/vid_id_300/sampled_train_id.txt'\n",
    "\n",
    "with open(output_file, 'w') as f:\n",
    "    for id in sampled_ids:\n",
    "        f.write(id + '\\n')\n",
    "\n",
    "print(\"10%로 샘플링된 ID 개수 : {}\".format(sample_size))\n",
    "print(\"10%로 샘플링된 ID 저장경로 : {}\".format(output_file))"
   ]
  },
  {
   "attachments": {},
   "cell_type": "markdown",
   "metadata": {},
   "source": [
    "## Valid dataset sampling (10%)\n",
    "- 기존 520개\n",
    "- sampled 52개"
   ]
  },
  {
   "cell_type": "code",
   "execution_count": 7,
   "metadata": {},
   "outputs": [
    {
     "name": "stdout",
     "output_type": "stream",
     "text": [
      "10%로 샘플링된 ID 개수 : 52\n",
      "10%로 샘플링된 ID 저장경로 : /root/VG-GPLMs/src/dataset300/vid_id_300/sampled_valid_id.txt\n"
     ]
    }
   ],
   "source": [
    "with open('/root/VG-GPLMs/src/dataset300/vid_id_300/valid_id.txt', 'r') as f:\n",
    "    id_list=[line.strip() for line in f]\n",
    "\n",
    "sample_size = int(len(id_list)*0.1)\n",
    "sampled_ids = random.sample(id_list, sample_size)\n",
    "\n",
    "output_file = '/root/VG-GPLMs/src/dataset300/vid_id_300/sampled_valid_id.txt'\n",
    "\n",
    "with open(output_file, 'w') as f:\n",
    "    for id in sampled_ids:\n",
    "        f.write(id + '\\n')\n",
    "\n",
    "print(\"10%로 샘플링된 ID 개수 : {}\".format(sample_size))\n",
    "print(\"10%로 샘플링된 ID 저장경로 : {}\".format(output_file))"
   ]
  },
  {
   "attachments": {},
   "cell_type": "markdown",
   "metadata": {},
   "source": [
    "## Test dataset sampling (10%)\n",
    "- 기존 127개\n",
    "- sampled 12개"
   ]
  },
  {
   "cell_type": "code",
   "execution_count": 9,
   "metadata": {},
   "outputs": [
    {
     "name": "stdout",
     "output_type": "stream",
     "text": [
      "10%로 샘플링된 ID 개수 : 12\n",
      "10%로 샘플링된 ID 저장경로 : /root/VG-GPLMs/src/dataset300/vid_id_300/sampled_test_id.txt\n"
     ]
    }
   ],
   "source": [
    "with open('/root/VG-GPLMs/src/dataset300/vid_id_300/test_id.txt', 'r') as f:\n",
    "    id_list=[line.strip() for line in f]\n",
    "\n",
    "sample_size = int(len(id_list)*0.1)\n",
    "sampled_ids = random.sample(id_list, sample_size)\n",
    "\n",
    "output_file = '/root/VG-GPLMs/src/dataset300/vid_id_300/sampled_test_id.txt'\n",
    "\n",
    "with open(output_file, 'w') as f:\n",
    "    for id in sampled_ids:\n",
    "        f.write(id + '\\n')\n",
    "\n",
    "print(\"10%로 샘플링된 ID 개수 : {}\".format(sample_size))\n",
    "print(\"10%로 샘플링된 ID 저장경로 : {}\".format(output_file))"
   ]
  },
  {
   "cell_type": "code",
   "execution_count": null,
   "metadata": {},
   "outputs": [],
   "source": []
  }
 ],
 "metadata": {
  "kernelspec": {
   "display_name": "base",
   "language": "python",
   "name": "python3"
  },
  "language_info": {
   "codemirror_mode": {
    "name": "ipython",
    "version": 3
   },
   "file_extension": ".py",
   "mimetype": "text/x-python",
   "name": "python",
   "nbconvert_exporter": "python",
   "pygments_lexer": "ipython3",
   "version": "3.7.12"
  },
  "orig_nbformat": 4
 },
 "nbformat": 4,
 "nbformat_minor": 2
}
